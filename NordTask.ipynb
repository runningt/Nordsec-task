{
 "cells": [
  {
   "cell_type": "code",
   "execution_count": 47,
   "id": "e860673e",
   "metadata": {
    "pycharm": {
     "name": "#%%\n"
    }
   },
   "outputs": [],
   "source": [
    "from pyspark.sql import SparkSession\n",
    "\n",
    "spark = SparkSession.builder \\\n",
    "      .master(\"local[1]\") \\\n",
    "      .appName(\"NORD_Task\") \\\n",
    "      .getOrCreate() \n",
    "sc = spark.sparkContext\n",
    "\n",
    "\n",
    "\n",
    "\n",
    "hadoop_conf=sc._jsc.hadoopConfiguration()\n",
    "hadoop_conf.set(\"fs.s3.impl\", \"org.apache.hadoop.fs.s3a.S3AFileSystem\")\n",
    "hadoop_conf.set(\"fs.s3a.aws.credentials.provider\", \"org.apache.hadoop.fs.s3a.AnonymousAWSCredentialsProvider\")\n",
    "region = 'eu-central-1'\n",
    "hadoop_conf.set(\"fs.s3a.endpoint\", f\"s3.{region}.amazonaws.com\")\n",
    "# see http://blog.encomiabile.it/2015/10/29/apache-spark-amazon-s3-and-apache-mesos/\n",
    "# hadoop_conf.set(\"fs.s3a.connection.maximum\", \"100000\")\n",
    "\n",
    "\n",
    "#number of files to process - will be read as input\n",
    "N = 100"
   ]
  },
  {
   "cell_type": "markdown",
   "id": "1b75c20c",
   "metadata": {
    "pycharm": {
     "name": "#%% md\n"
    }
   },
   "source": [
    "### Note \n",
    "In general I can see 2 approaches to load files data:\n",
    "   - Approach 1.\n",
    "     - `spark.read.format('binaryFile').option(\"pathGlobFilter\",\"<path-glob>\").load(<s3-bucket>)`. This solution would read all files with metadata into single DataFrame (path, mod time,  length, content)\n",
    "     - parse content of file in apropriate resulted dataframe transformation\n",
    "   - The advantage of it is that you receive parallelized DataFrame, content of file would be read in lazy way during processing each file. So in theory on a big enough spark cluster spark should take care of distributing and performance for you. The problem seems to be when you have to work with pretty read milions of files with unknown file size. You may end up huge memory and performance issues. This problem is shown e.g. in [this blog article](https://wrightturn.wordpress.com/2015/07/22/getting-spark-data-from-aws-s3-using-boto-and-pyspark/). Although it's pretty old I did not find any more recent solution to the issue. It also describes second approach.\n",
    "   - Approach 2.\n",
    "       - list all objects you're interested files in s3 bucket into some collection (but without parallelizing it)\n",
    "       - create parallelized dataframe based on the given collection\n",
    "       - read and process file content as part of transformations\n",
    "   - The bottleneck might that you have to iterate over millions of files so the size of the collection to be processed (on one node) might be huge. \n",
    "   \n",
    "As I am not able to test on a large set of data and big enough spark cluster which approach is more efficient. I am going to use approach described in [mentioned article](https://wrightturn.wordpress.com/2015/07/22/getting-spark-data-from-aws-s3-using-boto-and-pyspark). However instead of using boto3 for listing all objects I will use [`hadoop.fs.path.getFilesystem.globStatus`](https://stackoverflow.com/a/67050173/2018369) because boto3 [seems to be not the most effective way](https://stackoverflow.com/q/69920805/2018369) to get file list.\n",
    "\n",
    "I was also considering one more approach, which however I could not find any good way to implement. So my idea was to create a dataframe similar to the one created by `spark.read.format('binaryFile').option(\"pathGlobFilter\",\"<path-glob>\").load(<s3-bucket>)`, but which contain only prefix of file (first 1024 or 2048 bytes). This way we could have a Dataframe(path, mod time,  length, PE headers), we could process the header of file to get all required PE metadata apart from imports/expors and in next step we could load apropriate sections of file to get imports/exports.\n"
   ]
  },
  {
   "cell_type": "code",
   "execution_count": 41,
   "id": "98260fda",
   "metadata": {
    "pycharm": {
     "name": "#%%\n"
    }
   },
   "outputs": [],
   "source": [
    "nord_path = 's3a://s3-nord-challenge-data/[01]/*.???'\n",
    "#nord_path = 's3a://s3-nord-challenge-data/[01]/*'"
   ]
  },
  {
   "cell_type": "code",
   "execution_count": 61,
   "id": "c09b6fc9",
   "metadata": {
    "pycharm": {
     "name": "#%%\n"
    }
   },
   "outputs": [],
   "source": [
    "clean_path = 's3a://s3-nord-challenge-data/0/*.???'\n",
    "malware_path = 's3a://s3-nord-challenge-data/1/*.???'\n",
    "hadoopFs = hadoopPath.getFileSystem(hadoop_conf)\n",
    "\n",
    "cleanPath = sc._jvm.org.apache.hadoop.fs.Path(clean_path)\n",
    "clean_files = hadoopFs.globStatus(cleanPath)\n",
    "\n",
    "malwarePath = sc._jvm.org.apache.hadoop.fs.Path(malware_path)\n",
    "malware_files = hadoopFs.globStatus(malwarePath)"
   ]
  },
  {
   "cell_type": "code",
   "execution_count": 65,
   "id": "a2b4db91",
   "metadata": {},
   "outputs": [
    {
     "name": "stdout",
     "output_type": "stream",
     "text": [
      "14652\n"
     ]
    }
   ],
   "source": [
    "import random\n",
    "print(len(malware_files))\n",
    "files_to_process = random.sample(clean_files, int(N/2))+ random.sample(malware_files, int(N/2))"
   ]
  },
  {
   "cell_type": "code",
   "execution_count": 68,
   "id": "4553df7d",
   "metadata": {
    "pycharm": {
     "name": "#%%\n"
    },
    "scrolled": true
   },
   "outputs": [
    {
     "name": "stdout",
     "output_type": "stream",
     "text": [
      "s3a://s3-nord-challenge-data/0/00ELuByj9iSRf5Rx11Ypl15N6kS2FXmW.dll\n",
      "/0/00ELuByj9iSRf5Rx11Ypl15N6kS2FXmW.dll\n",
      "00ELuByj9iSRf5Rx11Ypl15N6kS2FXmW.dll\n",
      "3919\n"
     ]
    }
   ],
   "source": [
    "stat = clean_files[0]\n",
    "print(stat.getPath().toUri().getRawPath())\n",
    "print(stat.getPath().getName())\n",
    "print(stat.getLen())"
   ]
  },
  {
   "cell_type": "code",
   "execution_count": 76,
   "id": "49940bc1",
   "metadata": {},
   "outputs": [
    {
     "name": "stdout",
     "output_type": "stream",
     "text": [
      "[('/0/PXhzIGhqUe6rGif12xVsSSt4sBeSJ2QP.dll', 670032, 'dll'), ('/0/Bmg9xtsxAAfvmSHQmEOp1OiaQp76Q7Jy.dll', 1905152, 'dll'), ('/0/rIfed0htmYlwubNx7v7c0rNHMHg9PPJG.dll', 97872, 'dll'), ('/0/cHrgjOhFryTnqPuGDcOxU1rdFNVsGMvo.dll', 1658368, 'dll'), ('/0/PfFrpPSMATAEELBUMmb68AdAOek5qvQS.exe', 1128544, 'exe'), ('/0/408ak9Mx7JVIyRpOp0ZxZsthSibqf6Kw.exe', 129024, 'exe'), ('/0/PNc2CQjAsZ4ui7jCvoOpbDBJy3dTVZ55.dll', 17408, 'dll'), ('/0/nD1Kl1GVOnkSJI3erL0DK6PE5rTABSrM.exe', 86528, 'exe'), ('/0/E84kbW9mr7pDYYoinYOrEWn5YiQ05TQV.dll', 443571, 'dll'), ('/0/ZMfx4HRFZ952QimmrcxBWaCIQ2czgI8j.dll', 53840, 'dll'), ('/0/pp0fQ9i9yHfZYNonkeksqBYl3OByG9qd.dll', 492941, 'dll'), ('/0/H3xeXcrAV9D5w6CAcRbW6IqPe8sXWpb6.dll', 22833, 'dll'), ('/0/QYHi94rnlyMMNHVsuV1bg0Kif3WRw0fT.exe', 15389, 'exe'), ('/0/X3gMVFz8bns0XmBoNG3g4xhomgftBJhH.dll', 446976, 'dll'), ('/0/g6JNoxodcclCON5cDCH7nOLzY4tJEX2D.dll', 115, 'dll'), ('/0/usnNIDzEr7bRLPcynYmRGf9fu25PVCrU.dll', 357888, 'dll'), ('/0/a2yPEtghms1nVB2heexvCWJYIlu0O5mu.dll', 56832, 'dll'), ('/0/9T8Lv3b7wE665KkVNdqbaHyvVTy5lV14.dll', 144384, 'dll'), ('/0/7agZCcM6lKdI89XcZ2jFgam8jf60p4R0.dll', 31232, 'dll'), ('/0/rptpXnIlVIAVWuURB7r2z5d6wQ5eXTWd.dll', 253, 'dll'), ('/0/9VZzQBMh1j3Y3gB8MbbxUcOtNRbrmA7k.exe', 104448, 'exe'), ('/0/o9h4lu65fjLvMtaeDtUddHu8Ip0xaEX4.exe', 434176, 'exe'), ('/0/NhQyxLSviQy1h5BqM1iHUT6LyMH021wM.dll', 29696, 'dll'), ('/0/d5QKzyD9gvpvkGch0Zm1Zrv75x25RWUG.exe', 50278, 'exe'), ('/0/C6JTmA0iggKgipNDLSXLBnWMUWeirAYr.exe', 743320, 'exe'), ('/0/iwd7KwZntQAVnLllj5fJJT86rlTVYNXq.dll', 352768, 'dll'), ('/0/rHkztnlXInkXYFNz443bXJr4Nnx0Y4gq.dll', 14058, 'dll'), ('/0/USVfP3CRAX5yG5f8UBJEhrL5nDlMIhsc.dll', 3452416, 'dll'), ('/0/OQiByRGizrFNEvv7mCWulL2fMRdVg9ct.DLL', 7680, 'DLL'), ('/0/1Ar7G1uxzFcLkpiXskXUT0w8sa3NxsRP.dll', 131584, 'dll'), ('/0/J4ZbWLbLNNUG56SLPYKjwGFgFsj0aV29.dll', 15376, 'dll'), ('/0/XCcXfwA5SdmWbE3KgZogG40IiMhhnV73.exe', 88742, 'exe'), ('/0/6jUNQduGfDIc7wKmZ1EJtEshyOvCgcRb.dll', 249856, 'dll'), ('/0/pwN2SV9SJvtSvGbWnPdstkeqLnWpJdvP.dll', 156792, 'dll'), ('/0/z0zCzU8N58YqJnk3gkfGISdzts26BZbh.dll', 7680, 'dll'), ('/0/BL0GB9AywpcnxfkxBPyRzjjvZ4WUAohU.dll', 184832, 'dll'), ('/0/8BXdukFf6EW6IxBxA3A2OkzZcu85tVgn.dll', 1955, 'dll'), ('/0/w2KzIhcYxgYjCsT4WZ7J5tK0BikRu3SH.exe', 501760, 'exe'), ('/0/NRwmoS3N99GYBqba8bJXuNNraP5y6592.dll', 1452544, 'dll'), ('/0/C2MdcMe6lqMyT9xRH6ZjpYojya8ugP4y.dll', 46080, 'dll'), ('/0/Sc5GvG974lvTslul5JymfVNMWKrTybiR.dll', 12768, 'dll'), ('/0/yCYXxErcCY5ErSYqN7kLIEvh37glFqq0.dll', 131584, 'dll'), ('/0/bY8mrm27wFKTMtPVkMX4QKmYriAgMUeC.dll', 48640, 'dll'), ('/0/daC5yBHrsNEf4v9wZyWZa0VVqDPQluuW.dll', 102406, 'dll'), ('/0/IvIxOJQr4lf37auMvWclx1utAnLCujyr.dll', 7680, 'dll'), ('/0/RZjbRmGePSzGpRm9wyc9MDmJqCt1DnZZ.dll', 405864, 'dll'), ('/0/yFyeFeCapZj8KWvXtTIUKBiMb0kh47AG.dll', 30208, 'dll'), ('/0/A0cu9soNfDef4kLuoVWTazA1IP6J8NVE.dll', 42440, 'dll'), ('/0/hlh3qZxxnJxgnYVrpFVfq9WwwyS44tql.exe', 149042, 'exe'), ('/0/y1eP51sV3M89ulVzZ2xVcmkIrcRzX1gk.dll', 63488, 'dll'), ('/1/4HtQWIf2tPQFoAbbaqWLgK2ciTyOpLfg.dll', 491520, 'dll'), ('/1/J42FodCdhhm0mWk27911UqdlgDMHiB5h.exe', 73728, 'exe'), ('/1/RmIb1wR4sUkFi1cV1mGDwwGt1mbXu9hd.exe', 416768, 'exe'), ('/1/Y1suoEgQJECbULuVr0lYcUgF5mExJ8ZX.exe', 195584, 'exe'), ('/1/J9fB4NCOSpv2mBUSKWqS3128NeJTVmgw.exe', 172032, 'exe'), ('/1/ptTmbENNl5e9BtHgUWZ1maD5JAZnLn8o.exe', 559920, 'exe'), ('/1/6tOwweSLwrRvvavir8p64fElPYsAayS1.exe', 79382, 'exe'), ('/1/beu9h8TuWNwVVaY7EFAc0d07CUpPoQXW.exe', 4096, 'exe'), ('/1/tQyrsMqU6C5dyExmv1tYEwujJFqwgDUS.exe', 416768, 'exe'), ('/1/QIY1Kn4DW4sDQKw2oLeF7FkGvSx9Os4N.exe', 207872, 'exe'), ('/1/mibPWpTDRDvkgegtU4syBoRzpWIhtW7V.exe', 565248, 'exe'), ('/1/wlmRoFk8jylD3CVf0dkynPxqkPrdE7YL.exe', 459077, 'exe'), ('/1/M24aL5iyrx4U58L8gBQsky6iLBacvN8s.exe', 863232, 'exe'), ('/1/HcP1RI3bfFxs43iU5Yqm6ZeKoVHCXHGb.exe', 98304, 'exe'), ('/1/r2ejWEOJuBWZUwYBX2EoMsU6Mrtc8WtW.exe', 4096, 'exe'), ('/1/wCyI7Wej4bLxbJ4ILJ203cXw3NljSdVY.exe', 2167384, 'exe'), ('/1/p4P6yHzkqwD3kgjreoTBNtRTwaXnCgkU.exe', 560568, 'exe'), ('/1/cun9y9X8LqikjvUumKLIAg74ZO5Ieymi.exe', 773632, 'exe'), ('/1/R2lJm0KfKd3j4ZcRe3X23IbRynnalU5K.exe', 278528, 'exe'), ('/1/bgKihA1XgKSPl0VJDmFuxXAKvNvgcnf9.exe', 2315776, 'exe'), ('/1/Weudx7iWDOvIvm4cnIauYc9aqdkD3Mts.exe', 115712, 'exe'), ('/1/1aBxaKRAMoP41QHitPmRnr6ADxI3p1LX.exe', 125952, 'exe'), ('/1/sznMoTfd42sBxJKEQ0hufxFMtIoky96O.exe', 890816, 'exe'), ('/1/Y3GAbBnd9TB4WvRKpIOGPUaJ4LAq6IJb.exe', 380492, 'exe'), ('/1/7uh8pVbai8M83YAoYVP1SgOkDMPzTRDp.exe', 20480, 'exe'), ('/1/UpDs3bhE1X4ZCPl4E6gGgKnm32vrAmMs.exe', 247296, 'exe'), ('/1/eYbx3dKOiqQUqTt2tqlKSCiDoyWjJ77T.exe', 424960, 'exe'), ('/1/xDtpDyplelfnA9povywPt6HsK6rkc5AF.exe', 442463, 'exe'), ('/1/qj6gS1FwgGJg2G2VRBiSJxfj9H1ramWH.exe', 633344, 'exe'), ('/1/YFn6vbfCbb1D9figs10wo0XXOEOG1yOD.exe', 1212760, 'exe'), ('/1/rbgPYF5Pw37bAtXMJH7KyAm6wAv24SMd.exe', 200802, 'exe'), ('/1/rKr8rvRIxvek9Mb6I409UNRdgXhersag.exe', 714197, 'exe'), ('/1/52E3BUaXfGKtCAA9xCyZhDM2tGxmsYLw.exe', 808072, 'exe'), ('/1/bh75S5WWXVKcluF0dlYNeF77r0ZqWMR9.exe', 580096, 'exe'), ('/1/nWNeG6HqBKqZZ7RtaFaS0wLyaviNsrDX.exe', 1124864, 'exe'), ('/1/ZUKRwxpPscd2fx9dxj64Y7SdRNLXnIBs.exe', 801792, 'exe'), ('/1/BefWHPlyHsF1WGJTjB6JVvPC84E6vybh.exe', 1591808, 'exe'), ('/1/4xGUPHbN4phZbSUhedY9JgCXy3HOtNa9.exe', 94208, 'exe'), ('/1/g8tqyBaUifESzllEu737U1hlVexIzhun.exe', 118784, 'exe'), ('/1/zKMnFuR4Hv8qLZ3NvyI1p48V2TjTOUNH.exe', 30208, 'exe'), ('/1/kkJcR8XpQaOx9MdihMp5niClfJXI7qeK.dll', 452096, 'dll'), ('/1/GdVBsRnnUwxThZwZrEKYz7JnmB4hVowy.exe', 192512, 'exe'), ('/1/FcpeuHNuGJKVBDSvo4ODOF4UYa1dydrs.exe', 421376, 'exe'), ('/1/QVr3HtPy7QWrx7GEdAU8FYRViZbMAglS.exe', 3562104, 'exe'), ('/1/Y4pHDizBFGzucdKu3MI9dHwcnQ7WS9xY.exe', 110100, 'exe'), ('/1/2OQw5X0GHUK0uX77xSPsYqtL3CbR1V8n.exe', 765952, 'exe'), ('/1/wBXiEFDdkrpThNvDf6V7TNwzv3KpY9aj.exe', 1304576, 'exe'), ('/1/6qGEt70B6ngp6DryxPjADY9tySf1lAcX.exe', 767492, 'exe'), ('/1/ZQgcwoqusKccbPDHja5AQusm3A4wO9vQ.exe', 283136, 'exe'), ('/1/plOs7F1Cqphkwxw34X3HC2Vv8XG2YgRH.exe', 77824, 'exe')]\n",
      "+--------------------+-------+----+\n",
      "|                path| length|type|\n",
      "+--------------------+-------+----+\n",
      "|/0/PXhzIGhqUe6rGi...| 670032| dll|\n",
      "|/0/Bmg9xtsxAAfvmS...|1905152| dll|\n",
      "|/0/rIfed0htmYlwub...|  97872| dll|\n",
      "|/0/cHrgjOhFryTnqP...|1658368| dll|\n",
      "|/0/PfFrpPSMATAEEL...|1128544| exe|\n",
      "|/0/408ak9Mx7JVIyR...| 129024| exe|\n",
      "|/0/PNc2CQjAsZ4ui7...|  17408| dll|\n",
      "|/0/nD1Kl1GVOnkSJI...|  86528| exe|\n",
      "|/0/E84kbW9mr7pDYY...| 443571| dll|\n",
      "|/0/ZMfx4HRFZ952Qi...|  53840| dll|\n",
      "|/0/pp0fQ9i9yHfZYN...| 492941| dll|\n",
      "|/0/H3xeXcrAV9D5w6...|  22833| dll|\n",
      "|/0/QYHi94rnlyMMNH...|  15389| exe|\n",
      "|/0/X3gMVFz8bns0Xm...| 446976| dll|\n",
      "|/0/g6JNoxodcclCON...|    115| dll|\n",
      "|/0/usnNIDzEr7bRLP...| 357888| dll|\n",
      "|/0/a2yPEtghms1nVB...|  56832| dll|\n",
      "|/0/9T8Lv3b7wE665K...| 144384| dll|\n",
      "|/0/7agZCcM6lKdI89...|  31232| dll|\n",
      "|/0/rptpXnIlVIAVWu...|    253| dll|\n",
      "+--------------------+-------+----+\n",
      "only showing top 20 rows\n",
      "\n"
     ]
    }
   ],
   "source": [
    "# put files into dataFrame\n",
    "\n",
    "from pyspark.sql.types import StructType,StructField, StringType\n",
    "schema = StructType([       \n",
    "    StructField('path', StringType(), True),\n",
    "    StructField('length', StringType(), True),\n",
    "    StructField('type', StringType(), True)\n",
    "])\n",
    "data = [(f.getPath().toUri().getRawPath(), f.getLen(), f.getPath().getName().split('.')[-1]) for f in files_to_process]\n",
    "filesDF = spark.createDataFrame(data=data, schema = schema)\n",
    "filesDF.show()"
   ]
  },
  {
   "cell_type": "code",
   "execution_count": 84,
   "id": "9c7c9540",
   "metadata": {},
   "outputs": [
    {
     "ename": "ModuleNotFoundError",
     "evalue": "No module named 'boto3'",
     "output_type": "error",
     "traceback": [
      "\u001b[0;31m---------------------------------------------------------------------------\u001b[0m",
      "\u001b[0;31mModuleNotFoundError\u001b[0m                       Traceback (most recent call last)",
      "Cell \u001b[0;32mIn[84], line 1\u001b[0m\n\u001b[0;32m----> 1\u001b[0m \u001b[38;5;28;01mimport\u001b[39;00m \u001b[38;5;21;01mboto3\u001b[39;00m\n",
      "\u001b[0;31mModuleNotFoundError\u001b[0m: No module named 'boto3'"
     ]
    },
    {
     "name": "stderr",
     "output_type": "stream",
     "text": [
      "----------------------------------------\n",
      "Exception occurred during processing of request from ('127.0.0.1', 38896)\n",
      "Traceback (most recent call last):\n",
      "  File \"/usr/local/lib/python3.10/socketserver.py\", line 316, in _handle_request_noblock\n",
      "    self.process_request(request, client_address)\n",
      "  File \"/usr/local/lib/python3.10/socketserver.py\", line 347, in process_request\n",
      "    self.finish_request(request, client_address)\n",
      "  File \"/usr/local/lib/python3.10/socketserver.py\", line 360, in finish_request\n",
      "    self.RequestHandlerClass(request, client_address, self)\n",
      "  File \"/usr/local/lib/python3.10/socketserver.py\", line 747, in __init__\n",
      "    self.handle()\n",
      "  File \"/usr/local/lib/python3.10/site-packages/pyspark/accumulators.py\", line 262, in handle\n",
      "    poll(accum_updates)\n",
      "  File \"/usr/local/lib/python3.10/site-packages/pyspark/accumulators.py\", line 235, in poll\n",
      "    if func():\n",
      "  File \"/usr/local/lib/python3.10/site-packages/pyspark/accumulators.py\", line 239, in accum_updates\n",
      "    num_updates = read_int(self.rfile)\n",
      "  File \"/usr/local/lib/python3.10/site-packages/pyspark/serializers.py\", line 564, in read_int\n",
      "    raise EOFError\n",
      "EOFError\n",
      "----------------------------------------\n"
     ]
    }
   ],
   "source": [
    "import boto3"
   ]
  }
 ],
 "metadata": {
  "kernelspec": {
   "display_name": "Python 3 (ipykernel)",
   "language": "python",
   "name": "python3"
  },
  "language_info": {
   "codemirror_mode": {
    "name": "ipython",
    "version": 3
   },
   "file_extension": ".py",
   "mimetype": "text/x-python",
   "name": "python",
   "nbconvert_exporter": "python",
   "pygments_lexer": "ipython3",
   "version": "3.10.8"
  }
 },
 "nbformat": 4,
 "nbformat_minor": 5
}
